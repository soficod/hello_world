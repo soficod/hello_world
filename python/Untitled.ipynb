{
 "cells": [
  {
   "cell_type": "code",
   "execution_count": 2,
   "id": "fcc9c1b2",
   "metadata": {},
   "outputs": [
    {
     "name": "stdout",
     "output_type": "stream",
     "text": [
      "<class 'int'>\n"
     ]
    }
   ],
   "source": [
    "x = 3 \n",
    "print(type(x))"
   ]
  },
  {
   "cell_type": "code",
   "execution_count": 10,
   "id": "af6f947f",
   "metadata": {},
   "outputs": [
    {
     "name": "stdout",
     "output_type": "stream",
     "text": [
      "True\n"
     ]
    }
   ],
   "source": [
    "num =-218\n",
    "print(bool(num))"
   ]
  },
  {
   "cell_type": "code",
   "execution_count": 15,
   "id": "a0f58a2b",
   "metadata": {},
   "outputs": [
    {
     "name": "stdout",
     "output_type": "stream",
     "text": [
      "Hello\n",
      "\n",
      "\n",
      "\n",
      "\n",
      "\n",
      "\n",
      "World\n"
     ]
    }
   ],
   "source": [
    "print(\"Hello\")\n",
    "print(5*\"\\n\")\n",
    "print(\"World\")"
   ]
  },
  {
   "cell_type": "code",
   "execution_count": 20,
   "id": "d0eac09a",
   "metadata": {},
   "outputs": [
    {
     "name": "stdout",
     "output_type": "stream",
     "text": [
      "Hello World!!"
     ]
    }
   ],
   "source": [
    "print('Hello','World',sep=' ',end='!!')"
   ]
  },
  {
   "cell_type": "code",
   "execution_count": 21,
   "id": "91f12ab4",
   "metadata": {},
   "outputs": [
    {
     "name": "stdout",
     "output_type": "stream",
     "text": [
      "<class 'datetime.datetime'>\n",
      "<class 'str'>\n",
      "Current time is 2022-07-12 10:05:29.009449\n"
     ]
    }
   ],
   "source": [
    "import datetime\n",
    "now = datetime.datetime.now()\n",
    "string1 = \"Current time is \"\n",
    "print(type(now))\n",
    "print(type(string1))\n",
    "print(string1+str(now))"
   ]
  },
  {
   "cell_type": "code",
   "execution_count": 30,
   "id": "c5173e9c",
   "metadata": {},
   "outputs": [
    {
     "name": "stdout",
     "output_type": "stream",
     "text": [
      "Current time is 2022-07-12 10:17:37.715282\n"
     ]
    }
   ],
   "source": [
    "import datetime\n",
    "now = datetime.datetime.now()\n",
    "print(f'Current time is {now}')\n"
   ]
  },
  {
   "cell_type": "code",
   "execution_count": 26,
   "id": "dad8fdb2",
   "metadata": {},
   "outputs": [],
   "source": [
    "srcFile = open('python.txt', 'w')\n",
    "print('This file is about Python', file = srcFile)\n",
    "srcFile.close()"
   ]
  },
  {
   "cell_type": "code",
   "execution_count": 28,
   "id": "8f2ead99",
   "metadata": {},
   "outputs": [
    {
     "data": {
      "text/plain": [
       "False"
      ]
     },
     "execution_count": 28,
     "metadata": {},
     "output_type": "execute_result"
    }
   ],
   "source": [
    "'sofia' in 'lilia is teaching'"
   ]
  },
  {
   "cell_type": "code",
   "execution_count": 40,
   "id": "df68ee33",
   "metadata": {},
   "outputs": [
    {
     "name": "stdout",
     "output_type": "stream",
     "text": [
      "['AI', 'DATAScience', 'Machine Learning']\n"
     ]
    }
   ],
   "source": [
    "myList =[\"AI\",\"DATAScience\",\"Machine Learning\"]\n",
    "print(myList)"
   ]
  },
  {
   "cell_type": "code",
   "execution_count": 53,
   "id": "ec3536e1",
   "metadata": {},
   "outputs": [
    {
     "name": "stdout",
     "output_type": "stream",
     "text": [
      "List after extend([1, 4, 'AI', 'DATAScience', 'Machine Learning']):\n"
     ]
    }
   ],
   "source": [
    "# create a list\n",
    "prime_numbers = [\"AI\",\"DATAScience\",\"Machine Learning\"]\n",
    "\n",
    "# create another list\n",
    "numbers = [1, 4]\n",
    "\n",
    "# add all elements of prime_numbers to numbers\n",
    "numbers.extend(prime_numbers)\n",
    "\n",
    "\n",
    "print(f'List after extend({numbers}):')"
   ]
  },
  {
   "cell_type": "code",
   "execution_count": null,
   "id": "feb3821a",
   "metadata": {},
   "outputs": [],
   "source": []
  },
  {
   "cell_type": "code",
   "execution_count": null,
   "id": "35ea5b40",
   "metadata": {},
   "outputs": [],
   "source": []
  }
 ],
 "metadata": {
  "kernelspec": {
   "display_name": "Python 3 (ipykernel)",
   "language": "python",
   "name": "python3"
  },
  "language_info": {
   "codemirror_mode": {
    "name": "ipython",
    "version": 3
   },
   "file_extension": ".py",
   "mimetype": "text/x-python",
   "name": "python",
   "nbconvert_exporter": "python",
   "pygments_lexer": "ipython3",
   "version": "3.7.9"
  }
 },
 "nbformat": 4,
 "nbformat_minor": 5
}
